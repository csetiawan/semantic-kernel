{
 "cells": [
  {
   "cell_type": "markdown",
   "id": "3c93ac5b",
   "metadata": {},
   "source": [
    "# Running Semantic Functions Inline"
   ]
  },
  {
   "cell_type": "markdown",
   "id": "40201641",
   "metadata": {},
   "source": [
    "The [previous notebook](./2-running-prompts-from-file.ipynb)\n",
    "showed how to define a semantic function using a prompt template stored on a file.\n",
    "\n",
    "In this notebook, we'll show how to use the Semantic Kernel to define functions inline with your C# code. This can be useful in a few scenarios:\n",
    "\n",
    "* Dynamically generating the prompt using complex rules at runtime\n",
    "* Writing prompts by editing C# code instead of TXT files. \n",
    "* Easily creating demos, like this document\n",
    "\n",
    "Prompt templates are defined using the SK template language, which allows to reference variables and functions. Read [this doc](https://aka.ms/sk/howto/configurefunction) to learn more about the design decisions for prompt templating. \n",
    "\n",
    "For now we'll use only the `{{$input}}` variable, and see more complex templates later.\n",
    "\n",
    "Almost all semantic function prompts have a reference to `{{$input}}`, which is the default way\n",
    "a user can import content from the context variables."
   ]
  },
  {
   "cell_type": "markdown",
   "id": "d90b0c13",
   "metadata": {},
   "source": [
    "Prepare a semantic kernel instance first, loading also the AI backend settings defined in the [Setup notebook](0-AI-settings.ipynb):"
   ]
  },
  {
   "cell_type": "code",
   "execution_count": null,
   "id": "3712b7c3",
   "metadata": {},
   "outputs": [],
   "source": [
    "from init import *\n",
    "import semantic_kernel as sk\n",
    "from semantic_kernel.kernel_extensions.inline_function_definitions import create_semantic_function\n",
    "\n",
    "kernel = sk.KernelBuilder.create_kernel()\n",
    "\n",
    "useAzureOpenAI = False\n",
    "model = \"text-davinci-002\"\n",
    "\n",
    "# Configure AI backend used by the kernel\n",
    "if useAzureOpenAI:\n",
    "    api_key, endpoint = azure_openai_settings_from_dot_env()\n",
    "    kernel.config.add_azure_openai_completion_backend(\"davinci\", model, endpoint, api_key, overwrite=True)\n",
    "else:\n",
    "    api_key, org_id = openai_settings_from_dot_env()\n",
    "    kernel.config.add_openai_completion_backend(\"davinci\", model, api_key, org_id, overwrite = True)"
   ]
  },
  {
   "cell_type": "markdown",
   "id": "589733c5",
   "metadata": {},
   "source": [
    "Let's create a semantic function used to summarize content:"
   ]
  },
  {
   "cell_type": "code",
   "execution_count": null,
   "id": "08188a05",
   "metadata": {},
   "outputs": [],
   "source": [
    "sk_prompt = \"\"\"\n",
    "{{$input}}\n",
    "\n",
    "Summarize the content above.\n",
    "\"\"\""
   ]
  },
  {
   "cell_type": "markdown",
   "id": "fd19ac11",
   "metadata": {},
   "source": [
    "Let's configure the prompt, e.g. allowing for some creativity and a sufficient number of tokens."
   ]
  },
  {
   "cell_type": "code",
   "execution_count": null,
   "id": "dcb339ce",
   "metadata": {},
   "outputs": [],
   "source": [
    "prompt_config = sk.PromptTemplateConfig.from_completion_parameters(\n",
    "    max_tokens=2000, temperature=0.2, top_p=0.5\n",
    ")"
   ]
  },
  {
   "cell_type": "markdown",
   "id": "05e275a6",
   "metadata": {},
   "source": [
    "The following code prepares an instance of the template, passing in the TXT and configuration above, \n",
    "and a couple of other parameters (how to render the TXT and how the template can access other functions)."
   ]
  },
  {
   "cell_type": "code",
   "execution_count": null,
   "id": "76b9d28a",
   "metadata": {},
   "outputs": [],
   "source": [
    "prompt_template = sk.PromptTemplate(\n",
    "    sk_prompt, kernel.prompt_template_engine, prompt_config\n",
    ")"
   ]
  },
  {
   "cell_type": "markdown",
   "id": "e296d572",
   "metadata": {},
   "source": [
    "Let's transform the prompt template into a function that the kernel can execute:"
   ]
  },
  {
   "cell_type": "code",
   "execution_count": null,
   "id": "ae29c207",
   "metadata": {},
   "outputs": [],
   "source": [
    "function_config = sk.SemanticFunctionConfig(prompt_config, prompt_template)\n",
    "\n",
    "summary_function = kernel.register_semantic_function(\"MySkill\", \"Summary\", function_config)"
   ]
  },
  {
   "cell_type": "markdown",
   "id": "f26b90c4",
   "metadata": {},
   "source": [
    "Set up some content to summarize, here's an extract about Demo, an ancient Greek poet, taken from Wikipedia (https://en.wikipedia.org/wiki/Demo_(ancient_Greek_poet)."
   ]
  },
  {
   "cell_type": "code",
   "execution_count": null,
   "id": "314557fb",
   "metadata": {},
   "outputs": [],
   "source": [
    "input_text = \"\"\"\n",
    "Demo (ancient Greek poet)\n",
    "From Wikipedia, the free encyclopedia\n",
    "Demo or Damo (Greek: Δεμώ, Δαμώ; fl. c. AD 200) was a Greek woman of the Roman period, known for a single epigram, engraved upon the Colossus of Memnon, which bears her name. She speaks of herself therein as a lyric poetess dedicated to the Muses, but nothing is known of her life.[1]\n",
    "Identity\n",
    "Demo was evidently Greek, as her name, a traditional epithet of Demeter, signifies. The name was relatively common in the Hellenistic world, in Egypt and elsewhere, and she cannot be further identified. The date of her visit to the Colossus of Memnon cannot be established with certainty, but internal evidence on the left leg suggests her poem was inscribed there at some point in or after AD 196.[2]\n",
    "Epigram\n",
    "There are a number of graffiti inscriptions on the Colossus of Memnon. Following three epigrams by Julia Balbilla, a fourth epigram, in elegiac couplets, entitled and presumably authored by \"Demo\" or \"Damo\" (the Greek inscription is difficult to read), is a dedication to the Muses.[2] The poem is traditionally published with the works of Balbilla, though the internal evidence suggests a different author.[1]\n",
    "In the poem, Demo explains that Memnon has shown her special respect. In return, Demo offers the gift for poetry, as a gift to the hero. At the end of this epigram, she addresses Memnon, highlighting his divine status by recalling his strength and holiness.[2]\n",
    "Demo, like Julia Balbilla, writes in the artificial and poetic Aeolic dialect. The language indicates she was knowledgeable in Homeric poetry—'bearing a pleasant gift', for example, alludes to the use of that phrase throughout the Iliad and Odyssey.[a][2] \n",
    "\"\"\""
   ]
  },
  {
   "cell_type": "markdown",
   "id": "bf0f2330",
   "metadata": {},
   "source": [
    "...and run the summary function:"
   ]
  },
  {
   "cell_type": "code",
   "execution_count": null,
   "id": "7b0e3b0c",
   "metadata": {},
   "outputs": [],
   "source": [
    "summary = await kernel.run_on_str_async(input_text, summary_function)\n",
    "output = str(summary.variables).strip()\n",
    "print(output)"
   ]
  },
  {
   "cell_type": "markdown",
   "id": "5b061ca9",
   "metadata": {},
   "source": [
    "The code above shows all the steps, to understand how the function is composed step by step. However, the kernel\n",
    "includes also some helpers to achieve the same more concisely.\n",
    "\n",
    "The same function above can be created with less code:"
   ]
  },
  {
   "cell_type": "code",
   "execution_count": null,
   "id": "91c23029",
   "metadata": {},
   "outputs": [],
   "source": [
    "sk_prompt = \"\"\"\n",
    "{{$input}}\n",
    "\n",
    "Summarize the content above.\n",
    "\"\"\"\n",
    "\n",
    "summary_function = create_semantic_function(kernel, sk_prompt, max_tokens=2000, temperature=0.2, top_p=0.5)\n",
    "\n",
    "summary = await kernel.run_on_str_async(input_text, summary_function)\n",
    "\n",
    "output = str(summary.variables).strip()\n",
    "print(output)"
   ]
  },
  {
   "cell_type": "markdown",
   "id": "4777f447",
   "metadata": {},
   "source": [
    "Here's one more example of how to write an inline Semantic Function that gives a TLDR for a piece of text.\n",
    "\n",
    "\n"
   ]
  },
  {
   "cell_type": "code",
   "execution_count": null,
   "id": "ea8128c8",
   "metadata": {},
   "outputs": [],
   "source": [
    "kernel = sk.create_kernel()\n",
    "\n",
    "api_key, org_id = openai_settings_from_dot_env()\n",
    "\n",
    "kernel.config.add_openai_completion_backend(\n",
    "    \"davinci\", \"text-davinci-003\", api_key, org_id, overwrite=True)\n",
    "\n",
    "sk_prompt = \"\"\"\n",
    "{{$input}}\n",
    "\n",
    "Give me the TLDR in 5 words.\n",
    "\"\"\"\n",
    "\n",
    "text_to_summarize = \"\"\"\n",
    "    1) A robot may not injure a human being or, through inaction,\n",
    "    allow a human being to come to harm.\n",
    "\n",
    "    2) A robot must obey orders given it by human beings except where\n",
    "    such orders would conflict with the First Law.\n",
    "\n",
    "    3) A robot must protect its own existence as long as such protection\n",
    "    does not conflict with the First or Second Law.\n",
    "\"\"\"\n",
    "\n",
    "tldr_function = sk.extensions.create_semantic_function(\n",
    "    kernel,\n",
    "    sk_prompt,\n",
    "    max_tokens=200,\n",
    "    temperature=0,\n",
    "    top_p=0.5,\n",
    ")\n",
    "\n",
    "summary = await kernel.run_on_str_async(text_to_summarize, tldr_function)\n",
    "output = str(summary.variables).strip()\n",
    "print(\"Output: \" + output)\n",
    "\n",
    "# Output: Protect humans, follow orders, survive."
   ]
  }
 ],
 "metadata": {
  "kernelspec": {
   "display_name": "Python 3 (ipykernel)",
   "language": "python",
   "name": "python3"
  },
  "language_info": {
   "codemirror_mode": {
    "name": "ipython",
    "version": 3
   },
   "file_extension": ".py",
   "mimetype": "text/x-python",
   "name": "python",
   "nbconvert_exporter": "python",
   "pygments_lexer": "ipython3",
   "version": "3.10.9"
  }
 },
 "nbformat": 4,
 "nbformat_minor": 5
}
